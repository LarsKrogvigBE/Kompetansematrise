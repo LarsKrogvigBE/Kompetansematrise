{
 "cells": [
  {
   "cell_type": "markdown",
   "metadata": {},
   "source": [
    "### Import"
   ]
  },
  {
   "cell_type": "code",
   "execution_count": null,
   "metadata": {
    "collapsed": true
   },
   "outputs": [],
   "source": [
    "import pandas as pd\n",
    "import numpy as np\n",
    "import math\n",
    "import csv\n",
    "import re\n",
    "\n",
    "from sklearn import metrics\n",
    "from sklearn import preprocessing\n",
    "from sklearn.decomposition import PCA\n",
    "from sklearn.cluster import AffinityPropagation\n",
    "\n",
    "from matplotlib import pyplot as plt\n",
    "%matplotlib inline"
   ]
  },
  {
   "cell_type": "markdown",
   "metadata": {},
   "source": [
    "### Parametere"
   ]
  },
  {
   "cell_type": "code",
   "execution_count": null,
   "metadata": {
    "collapsed": true
   },
   "outputs": [],
   "source": [
    "n_clusters=5\n",
    "\n",
    "type='Interesse' \n",
    "#type='Kompetanse'\n",
    "\n",
    "cat = ['IM', 'ITST', 'BST', 'Tverrfaglige kompetanser'] # Kategorier som fargelegges i komponent-plot\n",
    "colors = ['b', 'r', 'y', 'g']                           # Fargene de får"
   ]
  },
  {
   "cell_type": "markdown",
   "metadata": {},
   "source": [
    "### Funksjoner"
   ]
  },
  {
   "cell_type": "code",
   "execution_count": null,
   "metadata": {
    "collapsed": false
   },
   "outputs": [],
   "source": [
    "fsize = 10\n",
    "\n",
    "# Manuell justering av navnposisjoner\n",
    "lpos = {'Krogvig': {'h': 'left', 'v': 'top'},\n",
    "        'Aanonsen': {'h': 'left', 'v': 'top'},\n",
    "        'Reidulff': {'h': 'right', 'v': 'top'},\n",
    "        'Glaeserud': {'h': 'left', 'v': 'bottom'},\n",
    "        'Nygaard': {'h': 'right', 'v': 'bottom'},\n",
    "        'Lohne': {'h': 'right', 'v': 'bottom'},\n",
    "        'Axelsen': {'h': 'right', 'v': 'bottom'},\n",
    "        'Overrein': {'h': 'left', 'v': 'bottom'},\n",
    "        'Tveit': {'h': 'right', 'v': 'bottom'},\n",
    "        'Mortensen': {'h': 'left', 'v': 'top'},\n",
    "        'Ehrndal': {'h': 'left', 'v': 'top'},\n",
    "        'Berisha': {'h': 'center', 'v': 'bottom'},\n",
    "        'Hermansen': {'h': 'left', 'v': 'bottom'},\n",
    "        'Holte': {'h': 'left', 'v': 'center'},\n",
    "        'Alnes': {'h': 'right', 'v': 'center'},\n",
    "        'Viklander': {'h': 'right', 'v': 'top'},\n",
    "        'Angset': {'h': 'left', 'v': 'top'},\n",
    "        'Sandstrom': {'h': 'right', 'v': 'top'},\n",
    "        'Thylin': {'h': 'right', 'v': 'bottom'},\n",
    "        'Kragerud': {'h': 'left', 'v': 'bottom'},\n",
    "        'Elstad': {'h': 'right', 'v': 'bottom'},\n",
    "        'Haavik': {'h': 'right', 'v': 'bottom'},\n",
    "        'Jahren': {'h': 'center', 'v': 'top'},\n",
    "        'Kristensen': {'h': 'left', 'v': 'bottom'},\n",
    "        'Strand': {'h': 'left', 'v': 'bottom'},\n",
    "        'Thorne': {'h': 'left', 'v': 'center'},\n",
    "         }\n",
    "\n",
    "def group_variables(df, cats):\n",
    "    \n",
    "    # Lager nytt datasett med grupperte variabler\n",
    "    \n",
    "    ucats = set([])\n",
    "    col2cat = {}\n",
    "    subcat2cat = {}\n",
    "    \n",
    "    # Hent kompetansekategoriseringen og lagre i col2cat og ucats\n",
    "    with open('Kategorier kompetanse og interesser.csv', 'r') as f:\n",
    "        reader = csv.reader(f, delimiter=';')\n",
    "        next(reader, None)\n",
    "        for row in reader:\n",
    "            col2cat[row[0]] = {'Kategori': row[1], 'Underkategori': row[2]}\n",
    "            subcat2cat[row[2]] = row[1]\n",
    "            ucats.add(row[2])\n",
    "    \n",
    "    # Lag nytt datasett med variabler som er snittet i hver underkategori\n",
    "    dfc = df.reset_index()[['Navn', 'Team']]\n",
    "    for ucat in ucats:\n",
    "        col_subset = np.matrix(df[[col for col in df.columns if col2cat[col]['Underkategori'] == ucat]])\n",
    "        dfc_add = pd.DataFrame(col_subset.sum(1)/col_subset.shape[1], columns=[ucat])\n",
    "        if not any([math.isnan(a) for a in dfc_add[ucat]]):\n",
    "            dfc = pd.concat([dfc, dfc_add], axis=1)\n",
    "        \n",
    "    dfc.set_index(['Navn','Team'],inplace=True)\n",
    "        \n",
    "    return dfc, subcat2cat\n",
    "\n",
    "def do_pca(df):\n",
    "    \n",
    "    # Utfører selve PCAen\n",
    "    \n",
    "    pca = PCA(n_components=2)\n",
    "    dfs = preprocessing.scale(ndf,with_std=False)\n",
    "    pca.fit(dfs)\n",
    "    transformed_df = pca.transform(dfs)\n",
    "    newdf = pd.concat([df.reset_index()[['Navn', 'Team']], pd.DataFrame(transformed_df)], axis=1)\n",
    "    components = pd.concat([df.transpose().reset_index()['index'], pd.DataFrame({'1':pca.components_[0]}), pd.DataFrame({'2':pca.components_[1]})], axis=1).set_index('index')\n",
    "    return newdf, components\n",
    "\n",
    "def flip_pca(df, components, flips=[]):\n",
    "    \n",
    "    # Endre fortegn på en av aksene dersom det blir finere\n",
    "    \n",
    "    if 'flip x' in flips: \n",
    "        df[0] *= -1\n",
    "        components['1'] *= -1\n",
    "        \n",
    "    if 'flip y' in flips: \n",
    "        df[1] *= -1\n",
    "        components['2'] *= -1\n",
    "        \n",
    "    return df, components\n",
    "        \n",
    "\n",
    "def plot_pca(df, lpos):\n",
    "    \n",
    "    # Lag scatterplot\n",
    "    \n",
    "    ms = 90\n",
    "    ax = df[df['Team']=='IM'].plot(kind='scatter', x=0, y=1, s=ms, color='b', label='IM', figsize=(fsize,fsize))\n",
    "    df[df['Team']=='BST' ].plot(kind='scatter', x=0, y=1, s=ms, color='r', label='BST', ax=ax)\n",
    "    df[df['Team']=='ITST'].plot(kind='scatter', x=0, y=1, s=ms, color='y', label='ITST', ax=ax)\n",
    "\n",
    "    for navn, team, x, y in df.values:\n",
    "        shortname = re.match('([A-Za-z]+)\\,?', navn).group(1)\n",
    "        \n",
    "        if shortname in lpos:\n",
    "            horz = lpos[shortname]['h']\n",
    "            vert = lpos[shortname]['v']\n",
    "        elif team == 'IM':\n",
    "            horz = 'right'\n",
    "            vert = 'top'\n",
    "        else:\n",
    "            horz = 'left'\n",
    "            vert = 'top'\n",
    "            \n",
    "        if vert == 'top': vs = -7\n",
    "        if vert == 'bottom': vs = 7\n",
    "        \n",
    "        plt.annotate(shortname, xy=(x, y), textcoords = 'offset points', xytext = (0,vs), horizontalalignment = horz, verticalalignment = vert)\n",
    "    \n",
    "    plt.title('PCA-analyse av %s' % type)\n",
    "    pass\n",
    "\n",
    "def plot_top_components(components, ind):\n",
    "    \n",
    "    # Ikke i bruk\n",
    "    \n",
    "    a = max(abs(components[str(ind)]))\n",
    "    \n",
    "    plt.figure()\n",
    "    components_sorted = components.sort(str(ind))[str(ind)]\n",
    "    subset = pd.concat([components_sorted[:3],components_sorted[-3:]])\n",
    "    subset.plot(kind='barh', xlim=(-1.1*a,1.1*a), figsize=(8,6), title='PCA component ' + str(ind));\n",
    "\n",
    "    pass\n",
    "\n",
    "def explain_axis(components, cat, subcat2cat, i):\n",
    "    \n",
    "    # Vis komponentforklaring for komponent i = 1, 2\n",
    "    \n",
    "    N = len(components[str(i)])\n",
    "    amp = max(abs(components[str(i)]))\n",
    "    \n",
    "    \n",
    "    values = components[str(i)].order()\n",
    "    names = [a for a in values.index]\n",
    "    names_2 = []\n",
    "    \n",
    "    fig, ax = plt.subplots(figsize=(fsize,fsize))\n",
    "    \n",
    "    ind = range(N)\n",
    "    width = 0.5\n",
    "    margin = 0.02\n",
    "    \n",
    "    rects = []\n",
    "    for k,c in enumerate(cat):\n",
    "        cind = [q for q in xrange(N) if subcat2cat[names[q]] == c]\n",
    "        rects.append(ax.barh([ind[j] for j in cind], [values[j] for j in cind], width, color=colors[k]))\n",
    "        names_2 += [names[j] for j in cind]\n",
    "    \n",
    "    # Text labels\n",
    "    j = 0\n",
    "    # For hvert sett av rektangler\n",
    "    for rect in rects:\n",
    "        # For hver rektangel\n",
    "        for r in rect:\n",
    "            \n",
    "            if r.get_x() < 0:\n",
    "                x = r.get_x() - margin\n",
    "                ha = 'right'\n",
    "            else:\n",
    "                x = r.get_width() + margin\n",
    "                ha = 'left'\n",
    "            y = r.get_y() + width/2.\n",
    "            \n",
    "            s = names_2[j] + ' (%.2f)' % x\n",
    "            \n",
    "            ax.text(x, y, s, ha=ha, va='center')\n",
    "            j += 1\n",
    "        \n",
    "    ax.set_xbound(-1.1*amp,1.1*amp)\n",
    "    ax.set_ybound(-1,N)\n",
    "    \n",
    "    ax.axis('off')\n",
    "    \n",
    "    #ax.legend(cat[:3] + ['Tverrfaglig'], bbox_to_anchor=(-0.35, 1), loc=2)\n",
    "    ax.legend(cat[:3], bbox_to_anchor=(0.1, 0.97), loc=2)\n",
    "            \n",
    "    \n",
    "    pass\n",
    "    \n",
    "    \n",
    "    "
   ]
  },
  {
   "cell_type": "markdown",
   "metadata": {},
   "source": [
    "### Datasett"
   ]
  },
  {
   "cell_type": "code",
   "execution_count": null,
   "metadata": {
    "collapsed": false,
    "scrolled": true
   },
   "outputs": [],
   "source": [
    "# Last datasett\n",
    "df = pd.io.parsers.read_csv(type+\"_formatert.csv\", sep=';', index_col=[0,1])\n",
    "\n",
    "# Dropp rader med manglende verdier\n",
    "df.dropna(how='any', inplace=True)\n",
    "\n",
    "# Last kategoriseringer av variable\n",
    "cats = pd.io.parsers.read_csv('Kategorier kompetanse og interesser.csv', sep=';')\n",
    "\n",
    "# Lag nytt datasett med grupperte variable\n",
    "ndf, subcat2cat = group_variables(df, cats)\n"
   ]
  },
  {
   "cell_type": "markdown",
   "metadata": {},
   "source": [
    "### PCA-analyse"
   ]
  },
  {
   "cell_type": "code",
   "execution_count": null,
   "metadata": {
    "collapsed": false
   },
   "outputs": [],
   "source": [
    "# Kjør PCA!\n",
    "newdf, components = do_pca(ndf)\n",
    "\n",
    "# Snu aksene om det viser seg nødvendig\n",
    "newdf, components = flip_pca(newdf, components, ['flip y'])"
   ]
  },
  {
   "cell_type": "code",
   "execution_count": null,
   "metadata": {
    "collapsed": false
   },
   "outputs": [],
   "source": [
    "# Scatter plot\n",
    "plot_pca(newdf, lpos)\n",
    "\n",
    "# Bar charts av komponenter\n",
    "explain_axis(components, cat, subcat2cat, 1)\n",
    "explain_axis(components, cat, subcat2cat, 2)\n"
   ]
  },
  {
   "cell_type": "code",
   "execution_count": null,
   "metadata": {
    "collapsed": true
   },
   "outputs": [],
   "source": []
  },
  {
   "cell_type": "code",
   "execution_count": null,
   "metadata": {
    "collapsed": true
   },
   "outputs": [],
   "source": []
  }
 ],
 "metadata": {
  "kernelspec": {
   "display_name": "Python 2",
   "language": "python",
   "name": "python2"
  },
  "language_info": {
   "codemirror_mode": {
    "name": "ipython",
    "version": 2
   },
   "file_extension": ".py",
   "mimetype": "text/x-python",
   "name": "python",
   "nbconvert_exporter": "python",
   "pygments_lexer": "ipython2",
   "version": "2.7.9"
  }
 },
 "nbformat": 4,
 "nbformat_minor": 0
}
